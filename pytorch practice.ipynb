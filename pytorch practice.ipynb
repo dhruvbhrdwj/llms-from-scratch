{
 "cells": [
  {
   "cell_type": "code",
   "execution_count": 2,
   "id": "20f423ba-575f-4030-8f93-518e87f10a7f",
   "metadata": {},
   "outputs": [],
   "source": [
    "import torch\n",
    "import torch.nn as nn"
   ]
  },
  {
   "cell_type": "code",
   "execution_count": 2,
   "id": "61f5287f-dcbd-495c-8632-ea38448174f9",
   "metadata": {},
   "outputs": [
    {
     "data": {
      "text/plain": [
       "tensor(1)"
      ]
     },
     "execution_count": 2,
     "metadata": {},
     "output_type": "execute_result"
    }
   ],
   "source": [
    "tensor1d = torch.tensor(1)\n",
    "tensor1d"
   ]
  },
  {
   "cell_type": "code",
   "execution_count": 3,
   "id": "47089a48-26ad-468c-afac-b17897629d99",
   "metadata": {},
   "outputs": [
    {
     "data": {
      "text/plain": [
       "torch.Size([2, 3])"
      ]
     },
     "execution_count": 3,
     "metadata": {},
     "output_type": "execute_result"
    }
   ],
   "source": [
    "tensor_2 = torch.tensor([[1,2,3],[4,5,6]])\n",
    "tensor_2.shape"
   ]
  },
  {
   "cell_type": "code",
   "execution_count": 4,
   "id": "cdfab138-72c8-4b22-b800-6694563c7c2b",
   "metadata": {},
   "outputs": [
    {
     "data": {
      "text/plain": [
       "tensor([[0.7394, 0.5242, 0.5181],\n",
       "        [0.8258, 0.2628, 0.6257],\n",
       "        [0.6727, 0.6115, 0.1756],\n",
       "        [0.0901, 0.0649, 0.3352],\n",
       "        [0.5796, 0.8081, 0.9457],\n",
       "        [0.5244, 0.4033, 0.9682]])"
      ]
     },
     "execution_count": 4,
     "metadata": {},
     "output_type": "execute_result"
    }
   ],
   "source": [
    "inputs = torch.rand(6,3)\n",
    "inputs"
   ]
  },
  {
   "cell_type": "code",
   "execution_count": 8,
   "id": "ac90597f-5dfc-47b1-9eac-e0043248bf97",
   "metadata": {},
   "outputs": [
    {
     "data": {
      "text/plain": [
       "tensor([[1, 2],\n",
       "        [3, 4],\n",
       "        [5, 6]])"
      ]
     },
     "execution_count": 8,
     "metadata": {},
     "output_type": "execute_result"
    }
   ],
   "source": [
    "tensor_2.reshape(3,2)"
   ]
  },
  {
   "cell_type": "code",
   "execution_count": 12,
   "id": "ea5dabb7-c0b6-4dc0-9875-a3cebf32b1ab",
   "metadata": {},
   "outputs": [
    {
     "data": {
      "text/plain": [
       "tensor([[[1, 2],\n",
       "         [3, 4]],\n",
       "\n",
       "        [[5, 6],\n",
       "         [7, 8]]])"
      ]
     },
     "execution_count": 12,
     "metadata": {},
     "output_type": "execute_result"
    }
   ],
   "source": [
    "tensor_3 = torch.tensor([[[1,2],[3,4]],[[5,6],[7,8]]])\n",
    "tensor_3"
   ]
  },
  {
   "cell_type": "code",
   "execution_count": 14,
   "id": "4e8e914c-d8b0-4726-8716-fdda37d81df4",
   "metadata": {},
   "outputs": [
    {
     "data": {
      "text/plain": [
       "torch.float32"
      ]
     },
     "execution_count": 14,
     "metadata": {},
     "output_type": "execute_result"
    }
   ],
   "source": [
    "float_vec = torch.tensor([1.2,3.5,67.3])\n",
    "float_vec.dtype"
   ]
  },
  {
   "cell_type": "code",
   "execution_count": 19,
   "id": "f86adb3d-fe08-447d-937e-65c736a93b42",
   "metadata": {},
   "outputs": [
    {
     "data": {
      "text/plain": [
       "tensor([ 1.2000,  3.5000, 67.3000], dtype=torch.float64)"
      ]
     },
     "execution_count": 19,
     "metadata": {},
     "output_type": "execute_result"
    }
   ],
   "source": [
    "float_vec.to(torch.float64)"
   ]
  },
  {
   "cell_type": "code",
   "execution_count": 42,
   "id": "5d4c5c96-3dea-497c-8d17-881eb464f8e6",
   "metadata": {},
   "outputs": [],
   "source": [
    "import torch.nn.functional as F\n",
    "from torch.autograd import grad\n",
    "y = torch.tensor([1.0])\n",
    "x1 = torch.tensor([1.1])\n",
    "w1 = torch.tensor([2.2], requires_grad = True)\n",
    "b = torch.tensor([0.0], requires_grad = True)\n",
    "z = x1 * w1 + b\n",
    "a = torch.sigmoid(z)"
   ]
  },
  {
   "cell_type": "code",
   "execution_count": 43,
   "id": "015a84e9-5a5d-49f7-b896-85e89b8a5ab6",
   "metadata": {},
   "outputs": [
    {
     "data": {
      "text/plain": [
       "tensor([0.9183], grad_fn=<SigmoidBackward0>)"
      ]
     },
     "execution_count": 43,
     "metadata": {},
     "output_type": "execute_result"
    }
   ],
   "source": [
    "a"
   ]
  },
  {
   "cell_type": "code",
   "execution_count": 44,
   "id": "0c935a5a-bd0b-4508-8e6b-32cc51e15082",
   "metadata": {},
   "outputs": [],
   "source": [
    "loss = F.binary_cross_entropy(a,y)\n",
    "grad_l_w1 = grad(loss, w1, retain_graph = True)\n",
    "grad_l_b = grad(loss, b, retain_graph = True)"
   ]
  },
  {
   "cell_type": "code",
   "execution_count": 46,
   "id": "2bdd8a52-4834-4498-9aba-16fbd268240b",
   "metadata": {},
   "outputs": [
    {
     "data": {
      "text/plain": [
       "((tensor([-0.0898]),), (tensor([-0.0817]),))"
      ]
     },
     "execution_count": 46,
     "metadata": {},
     "output_type": "execute_result"
    }
   ],
   "source": [
    "grad_l_w1, grad_l_b"
   ]
  },
  {
   "cell_type": "code",
   "execution_count": 47,
   "id": "bbd0b597-0176-4350-be45-1552c030d4fa",
   "metadata": {},
   "outputs": [
    {
     "name": "stdout",
     "output_type": "stream",
     "text": [
      "tensor([-0.0898])\n"
     ]
    }
   ],
   "source": [
    "loss.backward()\n",
    "print(w1.grad)"
   ]
  },
  {
   "cell_type": "code",
   "execution_count": 49,
   "id": "3327491f-c672-4558-8537-bff12a154790",
   "metadata": {},
   "outputs": [],
   "source": [
    "# Multilayer Perceptron\n",
    "class NeuralNetwork(torch.nn.Module):\n",
    "    def __init__(self,num_inputs, num_outputs):\n",
    "        super().__init__()\n",
    "        self.layers = torch.nn.Sequential(\n",
    "            # first layer\n",
    "            torch.nn.Linear(num_inputs, 30),\n",
    "            torch.nn.ReLU(),\n",
    "\n",
    "            # Hidden layer\n",
    "            torch.nn.Linear(30,20),\n",
    "            torch.nn.ReLU(),\n",
    "\n",
    "            #Output layer\n",
    "            torch.nn.Linear(20,num_outputs)\n",
    "        )\n",
    "    def forward(self, x):\n",
    "        logits = self.layers(x)\n",
    "        return logits"
   ]
  },
  {
   "cell_type": "code",
   "execution_count": 50,
   "id": "3622af9b-e4ae-4b84-8370-91da7835afd1",
   "metadata": {},
   "outputs": [
    {
     "data": {
      "text/plain": [
       "NeuralNetwork(\n",
       "  (layers): Sequential(\n",
       "    (0): Linear(in_features=50, out_features=30, bias=True)\n",
       "    (1): ReLU()\n",
       "    (2): Linear(in_features=30, out_features=20, bias=True)\n",
       "    (3): ReLU()\n",
       "    (4): Linear(in_features=20, out_features=2, bias=True)\n",
       "  )\n",
       ")"
      ]
     },
     "execution_count": 50,
     "metadata": {},
     "output_type": "execute_result"
    }
   ],
   "source": [
    "model = NeuralNetwork(50, 2)\n",
    "model"
   ]
  },
  {
   "cell_type": "code",
   "execution_count": 52,
   "id": "e3186410-dcd2-465b-b482-39e44a9bf092",
   "metadata": {},
   "outputs": [
    {
     "data": {
      "text/plain": [
       "2192"
      ]
     },
     "execution_count": 52,
     "metadata": {},
     "output_type": "execute_result"
    }
   ],
   "source": [
    "num_params = sum(p.numel() for p in model.parameters())\n",
    "num_params"
   ]
  },
  {
   "cell_type": "code",
   "execution_count": 2,
   "id": "e62e6659-1b74-4054-80fd-e75637d06eac",
   "metadata": {},
   "outputs": [],
   "source": [
    "x = torch.tensor([2.0,3.0], requires_grad = True)\n",
    "y = x[0] ** 2 + x[1]**3\n",
    "# y.backward()"
   ]
  },
  {
   "cell_type": "code",
   "execution_count": 5,
   "id": "5f1d892a-1236-434e-b41f-631139d2de97",
   "metadata": {},
   "outputs": [],
   "source": [
    "y.backward()"
   ]
  },
  {
   "cell_type": "code",
   "execution_count": 8,
   "id": "c33153c3-e29e-4068-a3b8-25e0d69c7350",
   "metadata": {},
   "outputs": [
    {
     "name": "stdout",
     "output_type": "stream",
     "text": [
      "tensor([ 4., 27.])\n"
     ]
    }
   ],
   "source": [
    "print(x.grad)"
   ]
  },
  {
   "cell_type": "markdown",
   "id": "d2212c96-94f8-4f58-bde4-76becdf82600",
   "metadata": {},
   "source": [
    "#### Sum practice"
   ]
  },
  {
   "cell_type": "code",
   "execution_count": 6,
   "id": "7b7e53ad-3238-4978-acfd-226a91948057",
   "metadata": {},
   "outputs": [
    {
     "data": {
      "text/plain": [
       "tensor([[1, 2, 3],\n",
       "        [4, 5, 6]])"
      ]
     },
     "execution_count": 6,
     "metadata": {},
     "output_type": "execute_result"
    }
   ],
   "source": [
    "a = torch.tensor([[1, 2, 3], [4, 5, 6]])\n",
    "a"
   ]
  },
  {
   "cell_type": "code",
   "execution_count": 8,
   "id": "1435576a-8ac5-49f1-b551-fc104248b202",
   "metadata": {},
   "outputs": [
    {
     "data": {
      "text/plain": [
       "tensor([[5, 7, 9]])"
      ]
     },
     "execution_count": 8,
     "metadata": {},
     "output_type": "execute_result"
    }
   ],
   "source": [
    "sum_along_rows = a.sum(dim=0, keepdim = True)  # Output: tensor([ 6, 15])\n",
    "sum_along_rows"
   ]
  },
  {
   "cell_type": "markdown",
   "id": "63a5b4f4-aa62-4824-b7de-b4397a29b4e3",
   "metadata": {
    "jp-MarkdownHeadingCollapsed": true
   },
   "source": [
    "### Self Attention Practice"
   ]
  },
  {
   "cell_type": "code",
   "execution_count": 7,
   "id": "3858ed1f-0beb-409b-86a9-adb603bff863",
   "metadata": {},
   "outputs": [
    {
     "data": {
      "text/plain": [
       "torch.Size([6, 3])"
      ]
     },
     "execution_count": 7,
     "metadata": {},
     "output_type": "execute_result"
    }
   ],
   "source": [
    "inputs.shape"
   ]
  },
  {
   "cell_type": "code",
   "execution_count": 17,
   "id": "0640d652-1cb4-40b9-8e32-16c73088da6b",
   "metadata": {},
   "outputs": [
    {
     "data": {
      "text/plain": [
       "torch.Size([3])"
      ]
     },
     "execution_count": 17,
     "metadata": {},
     "output_type": "execute_result"
    }
   ],
   "source": [
    "# 1. Find attention scores. First find attention with itself\n",
    "query = inputs[1]\n",
    "query.shape"
   ]
  },
  {
   "cell_type": "code",
   "execution_count": 12,
   "id": "719a3c06-3e0e-482c-a2c1-eb2e7cbac1b7",
   "metadata": {},
   "outputs": [],
   "source": [
    "attn_scores_2 = inputs @ query"
   ]
  },
  {
   "cell_type": "code",
   "execution_count": 14,
   "id": "2a32ee8c-22a9-4558-856b-0e2ffea7eb3a",
   "metadata": {},
   "outputs": [
    {
     "data": {
      "text/plain": [
       "tensor([1.0725, 1.1425, 0.8261, 0.3012, 1.2828, 1.1448])"
      ]
     },
     "execution_count": 14,
     "metadata": {},
     "output_type": "execute_result"
    }
   ],
   "source": [
    "attn_scores_2"
   ]
  },
  {
   "cell_type": "code",
   "execution_count": 18,
   "id": "78974606-c7d9-437c-889d-2bb957b2c7d1",
   "metadata": {},
   "outputs": [
    {
     "data": {
      "text/plain": [
       "tensor([0.1778, 0.1907, 0.1389, 0.0822, 0.2194, 0.1911])"
      ]
     },
     "execution_count": 18,
     "metadata": {},
     "output_type": "execute_result"
    }
   ],
   "source": [
    "# 2. Softmax for normalization\n",
    "attn_weights_2 = torch.softmax(attn_scores_2, dim = 0)\n",
    "attn_weights_2"
   ]
  },
  {
   "cell_type": "code",
   "execution_count": 33,
   "id": "8fbfb93d-5d86-4350-b0ac-717fd401dad1",
   "metadata": {},
   "outputs": [
    {
     "data": {
      "text/plain": [
       "tensor([0., 0., 0.])"
      ]
     },
     "execution_count": 33,
     "metadata": {},
     "output_type": "execute_result"
    }
   ],
   "source": [
    "# 3. Find Context\n",
    "context_vec_2 = torch.zeros(query.shape)\n",
    "context_vec_2"
   ]
  },
  {
   "cell_type": "code",
   "execution_count": 36,
   "id": "8535f564-44d4-484e-b30a-073182a95234",
   "metadata": {},
   "outputs": [
    {
     "data": {
      "text/plain": [
       "tensor([0.1778, 0.1907, 0.1389, 0.0822, 0.2194, 0.1911])"
      ]
     },
     "execution_count": 36,
     "metadata": {},
     "output_type": "execute_result"
    }
   ],
   "source": [
    "attn_weights_2"
   ]
  },
  {
   "cell_type": "code",
   "execution_count": 40,
   "id": "835f2162-3a7a-4ccb-8b44-b64a03960d2a",
   "metadata": {},
   "outputs": [
    {
     "name": "stdout",
     "output_type": "stream",
     "text": [
      "input tensor([0.7394, 0.5242, 0.5181])\n",
      "attn_weights_2 tensor(0.1778)\n",
      "input tensor([0.8258, 0.2628, 0.6257])\n",
      "attn_weights_2 tensor(0.1907)\n",
      "input tensor([0.6727, 0.6115, 0.1756])\n",
      "attn_weights_2 tensor(0.1389)\n",
      "input tensor([0.0901, 0.0649, 0.3352])\n",
      "attn_weights_2 tensor(0.0822)\n",
      "input tensor([0.5796, 0.8081, 0.9457])\n",
      "attn_weights_2 tensor(0.2194)\n",
      "input tensor([0.5244, 0.4033, 0.9682])\n",
      "attn_weights_2 tensor(0.1911)\n"
     ]
    }
   ],
   "source": [
    "for i,x_i in enumerate(inputs):\n",
    "    print(\"input\", inputs[i])\n",
    "    print(\"attn_weights_2\", attn_weights_2[i])\n",
    "    # print(x_i)\n",
    "    context_vec_2 += attn_weights_2[i] * inputs[i]"
   ]
  },
  {
   "cell_type": "code",
   "execution_count": 41,
   "id": "33f8a2d0-d30e-4459-9eb5-b6fa499dc812",
   "metadata": {},
   "outputs": [
    {
     "data": {
      "text/plain": [
       "tensor([0.6171, 0.4879, 0.6558])"
      ]
     },
     "execution_count": 41,
     "metadata": {},
     "output_type": "execute_result"
    }
   ],
   "source": [
    "context_vec_2"
   ]
  },
  {
   "cell_type": "code",
   "execution_count": 29,
   "id": "3e2e9d44-bef0-4b73-94f5-5c53acd248ce",
   "metadata": {},
   "outputs": [
    {
     "data": {
      "text/plain": [
       "tensor([0.6171, 0.4879, 0.6558])"
      ]
     },
     "execution_count": 29,
     "metadata": {},
     "output_type": "execute_result"
    }
   ],
   "source": [
    "context_vec = attn_weights_2 @ inputs\n",
    "context_vec"
   ]
  },
  {
   "cell_type": "markdown",
   "id": "97b7fda3-fa67-4558-badc-1da0e77cd605",
   "metadata": {
    "jp-MarkdownHeadingCollapsed": true
   },
   "source": [
    "### Scaled Dot Attention"
   ]
  },
  {
   "cell_type": "code",
   "execution_count": 46,
   "id": "2f497bb1-af95-43b2-80bd-976308b57350",
   "metadata": {},
   "outputs": [],
   "source": [
    "torch.manual_seed(123)\n",
    "d_in = 3\n",
    "d_out = 2"
   ]
  },
  {
   "cell_type": "code",
   "execution_count": 51,
   "id": "79e02853-8886-49fc-a378-007ef403a060",
   "metadata": {},
   "outputs": [],
   "source": [
    "# Using Weights\n",
    "W_query  = torch.nn.Parameter(torch.rand(d_in,d_out), requires_grad = False)\n",
    "W_key  = torch.nn.Parameter(torch.rand(d_in,d_out), requires_grad = False)\n",
    "W_value  = torch.nn.Parameter(torch.rand(d_in,d_out), requires_grad = False)"
   ]
  },
  {
   "cell_type": "code",
   "execution_count": 59,
   "id": "59191535-c3e5-4f64-8447-273255998492",
   "metadata": {},
   "outputs": [
    {
     "data": {
      "text/plain": [
       "torch.Size([3, 2])"
      ]
     },
     "execution_count": 59,
     "metadata": {},
     "output_type": "execute_result"
    }
   ],
   "source": [
    "W_query.shape"
   ]
  },
  {
   "cell_type": "code",
   "execution_count": 61,
   "id": "69740e3b-6ac7-4bfc-8294-1c3b873fa450",
   "metadata": {},
   "outputs": [
    {
     "data": {
      "text/plain": [
       "torch.Size([6, 3])"
      ]
     },
     "execution_count": 61,
     "metadata": {},
     "output_type": "execute_result"
    }
   ],
   "source": [
    "inputs.shape"
   ]
  },
  {
   "cell_type": "code",
   "execution_count": 65,
   "id": "6e2ff826-be4a-410f-882c-acc229c4006c",
   "metadata": {},
   "outputs": [],
   "source": [
    "# 1. We need to embed the input vector into key and queries.\n",
    "queries = inputs @ W_query\n",
    "keys = inputs @ W_key"
   ]
  },
  {
   "cell_type": "code",
   "execution_count": 67,
   "id": "81e6a2ae-1460-4d40-b561-01429ae1975f",
   "metadata": {},
   "outputs": [
    {
     "data": {
      "text/plain": [
       "(tensor([[0.8144, 0.9564],\n",
       "         [0.8623, 0.7934],\n",
       "         [0.5123, 0.9740],\n",
       "         [0.3442, 0.1280],\n",
       "         [1.2339, 1.1113],\n",
       "         [1.1266, 0.7288]]),\n",
       " tensor([[1.5360, 1.1411],\n",
       "         [1.5270, 1.0671],\n",
       "         [1.2233, 1.0048],\n",
       "         [0.4370, 0.2578],\n",
       "         [1.9833, 1.4090],\n",
       "         [1.6620, 1.0922]]))"
      ]
     },
     "execution_count": 67,
     "metadata": {},
     "output_type": "execute_result"
    }
   ],
   "source": [
    "queries, keys"
   ]
  },
  {
   "cell_type": "code",
   "execution_count": 69,
   "id": "b496422e-bed1-4fb3-a770-ac363fba9a62",
   "metadata": {},
   "outputs": [
    {
     "data": {
      "text/plain": [
       "(tensor([0.5123, 0.9740]), tensor([1.2233, 1.0048]))"
      ]
     },
     "execution_count": 69,
     "metadata": {},
     "output_type": "execute_result"
    }
   ],
   "source": [
    "queries[2],keys[2]"
   ]
  },
  {
   "cell_type": "code",
   "execution_count": 74,
   "id": "5ce0304f-5e28-454b-8970-f30bba2fb441",
   "metadata": {},
   "outputs": [
    {
     "data": {
      "text/plain": [
       "tensor([1.8984, 1.8217, 1.6055, 0.4750, 2.3886, 1.9154])"
      ]
     },
     "execution_count": 74,
     "metadata": {},
     "output_type": "execute_result"
    }
   ],
   "source": [
    "attn_scores_2 = queries[2] @ keys.T\n",
    "attn_scores_2"
   ]
  },
  {
   "cell_type": "code",
   "execution_count": 75,
   "id": "f4b61f25-2f9e-4b05-a79a-79b2410fe5a2",
   "metadata": {},
   "outputs": [
    {
     "data": {
      "text/plain": [
       "tensor([0.1798, 0.1665, 0.1341, 0.0433, 0.2935, 0.1828])"
      ]
     },
     "execution_count": 75,
     "metadata": {},
     "output_type": "execute_result"
    }
   ],
   "source": [
    "attn_weights_2 = torch.softmax(attn_scores_2, dim=0)\n",
    "attn_weights_2"
   ]
  },
  {
   "cell_type": "code",
   "execution_count": 77,
   "id": "7b37f457-e79f-428a-8be4-ffee42fb08ae",
   "metadata": {},
   "outputs": [],
   "source": [
    "values = inputs @ W_value"
   ]
  },
  {
   "cell_type": "code",
   "execution_count": 78,
   "id": "923f355c-f13a-4974-9630-515a733fad00",
   "metadata": {},
   "outputs": [
    {
     "data": {
      "text/plain": [
       "tensor([0.4081, 0.6692])"
      ]
     },
     "execution_count": 78,
     "metadata": {},
     "output_type": "execute_result"
    }
   ],
   "source": [
    "context_vec_2 = attn_weights_2 @ values\n",
    "context_vec_2"
   ]
  },
  {
   "cell_type": "markdown",
   "id": "89633fe0-fe74-48e5-8789-a5559443e310",
   "metadata": {
    "jp-MarkdownHeadingCollapsed": true
   },
   "source": [
    "### Challenges"
   ]
  },
  {
   "cell_type": "code",
   "execution_count": 4,
   "id": "933679c0-bf71-4e97-8c17-a54eeeb4dccd",
   "metadata": {},
   "outputs": [
    {
     "data": {
      "text/plain": [
       "(tensor([[0.6762, 0.6671],\n",
       "         [0.4886, 0.4646],\n",
       "         [0.3765, 0.7933]]),\n",
       " tensor([[0.8186],\n",
       "         [0.2105]]))"
      ]
     },
     "execution_count": 4,
     "metadata": {},
     "output_type": "execute_result"
    }
   ],
   "source": [
    "a = torch.rand(3,2)\n",
    "b = torch.rand(2,1)\n",
    "a, b"
   ]
  },
  {
   "cell_type": "code",
   "execution_count": 67,
   "id": "939df7a6-d367-4467-9703-fc3c7d09063e",
   "metadata": {},
   "outputs": [
    {
     "data": {
      "text/plain": [
       "2"
      ]
     },
     "execution_count": 67,
     "metadata": {},
     "output_type": "execute_result"
    }
   ],
   "source": [
    "a = [[1,2,3],[4,5,6]]\n",
    "len(a)"
   ]
  },
  {
   "cell_type": "code",
   "execution_count": 69,
   "id": "cb003581-93f7-4209-840d-9189bb011a57",
   "metadata": {},
   "outputs": [
    {
     "data": {
      "text/plain": [
       "2"
      ]
     },
     "execution_count": 69,
     "metadata": {},
     "output_type": "execute_result"
    }
   ],
   "source": [
    "b = [[1,4],[2,5]]\n",
    "len(b)"
   ]
  },
  {
   "cell_type": "code",
   "execution_count": 72,
   "id": "9a96b702-90fe-4514-9a10-55321c79b6fc",
   "metadata": {},
   "outputs": [
    {
     "data": {
      "image/png": "[encoded data removed]",
      "text/plain": [
       "<Figure size 640x480 with 1 Axes>"
      ]
     },
     "metadata": {},
     "output_type": "display_data"
    }
   ],
   "source": [
    "import matplotlib.pyplot as plt\n",
    "import numpy as np\n",
    "\n",
    "# Given data points\n",
    "X = [[1, 1], [1, 2], [1, 3]]\n",
    "y = [1, 2, 3]\n",
    "\n",
    "# Convert X to a numpy array for easier slicing\n",
    "X = np.array(X)\n",
    "\n",
    "# Plotting the points\n",
    "plt.scatter(X[:, 1], y, color='blue', label='Data points')\n",
    "\n",
    "# Adding labels and title\n",
    "plt.xlabel('Feature (X[:, 1])')\n",
    "plt.ylabel('Target (y)')\n",
    "plt.title('Scatter plot of X vs y')\n",
    "plt.legend()\n",
    "plt.grid(True)\n",
    "plt.show()"
   ]
  },
  {
   "cell_type": "code",
   "execution_count": 74,
   "id": "54612788-d2bb-4e2d-8b13-06dc50473e0c",
   "metadata": {},
   "outputs": [
    {
     "data": {
      "text/plain": [
       "(array([[1, 1],\n",
       "        [1, 2],\n",
       "        [1, 3]]),\n",
       " [1, 2, 3])"
      ]
     },
     "execution_count": 74,
     "metadata": {},
     "output_type": "execute_result"
    }
   ],
   "source": [
    "X, y"
   ]
  },
  {
   "cell_type": "code",
   "execution_count": 100,
   "id": "03853a65-55d8-4066-80f7-fdb485fd5d15",
   "metadata": {},
   "outputs": [
    {
     "data": {
      "text/plain": [
       "array([1, 2, 3])"
      ]
     },
     "execution_count": 100,
     "metadata": {},
     "output_type": "execute_result"
    }
   ],
   "source": [
    "x = X[:,1]\n",
    "x"
   ]
  },
  {
   "cell_type": "code",
   "execution_count": 92,
   "id": "9271e481-ccbc-40a1-ab4a-434d4d504ecd",
   "metadata": {},
   "outputs": [
    {
     "data": {
      "text/plain": [
       "(2.0, 2.0)"
      ]
     },
     "execution_count": 92,
     "metadata": {},
     "output_type": "execute_result"
    }
   ],
   "source": [
    "x_bar = sum(x)/len(x)\n",
    "y_bar = sum(y)/len(y)\n",
    "x_bar, y_bar"
   ]
  },
  {
   "cell_type": "code",
   "execution_count": 93,
   "id": "8c1ef7be-61f5-4f27-a555-e752f6a21d7a",
   "metadata": {},
   "outputs": [],
   "source": [
    "n = 0\n",
    "d = 0\n",
    "for i in range(len(x)):\n",
    "    n += (x[i]-x_bar) * (y[i]-y_bar)\n",
    "    d += (x[i]-x_bar) **2"
   ]
  },
  {
   "cell_type": "code",
   "execution_count": 97,
   "id": "9a2004be-982b-4c09-9f79-b75054484987",
   "metadata": {},
   "outputs": [
    {
     "data": {
      "text/plain": [
       "1.0"
      ]
     },
     "execution_count": 97,
     "metadata": {},
     "output_type": "execute_result"
    }
   ],
   "source": [
    "beta_1 = n/d\n",
    "beta_1"
   ]
  },
  {
   "cell_type": "code",
   "execution_count": 102,
   "id": "169912df-0605-4fda-a706-aae9183020d9",
   "metadata": {},
   "outputs": [
    {
     "data": {
      "text/plain": [
       "(1.5, 2.0)"
      ]
     },
     "execution_count": 102,
     "metadata": {},
     "output_type": "execute_result"
    }
   ],
   "source": [
    "X = np.array(X)\n",
    "y = np.array(y)\n",
    "x_bar = np.mean(X)\n",
    "y_bar = np.mean(y)\n",
    "x_bar, y_bar"
   ]
  },
  {
   "cell_type": "markdown",
   "id": "023dce4c-b5db-408c-99f3-d82a1d34cafc",
   "metadata": {
    "jp-MarkdownHeadingCollapsed": true
   },
   "source": [
    "## Deep ML Questions"
   ]
  },
  {
   "cell_type": "code",
   "execution_count": 42,
   "id": "f57957c2-0cbd-4d7a-bbd7-8e20bf43d3fc",
   "metadata": {},
   "outputs": [],
   "source": [
    "import numpy as np\n",
    "import math"
   ]
  },
  {
   "cell_type": "code",
   "execution_count": 27,
   "id": "9a6e2530-c755-4b65-8fec-ca6252697b61",
   "metadata": {},
   "outputs": [],
   "source": [
    "y_true = np.array([1, 0, 1, 1, 0, 1])\n",
    "y_pred = np.array([1, 0, 0, 1, 0, 1])"
   ]
  },
  {
   "cell_type": "code",
   "execution_count": 30,
   "id": "b697f427-1e5a-4171-9512-aa28c16b69d2",
   "metadata": {},
   "outputs": [
    {
     "name": "stdout",
     "output_type": "stream",
     "text": [
      "true 0\n",
      "pred 0\n",
      "true 1\n",
      "pred 1\n",
      "true 0\n",
      "pred 0\n",
      "true 0\n",
      "pred 0\n",
      "true 1\n",
      "pred 1\n",
      "true 0\n",
      "pred 0\n"
     ]
    }
   ],
   "source": [
    "correct = 0\n",
    "for i in y_true:\n",
    "    if y_true[i]==y_pred[i]:\n",
    "        print('true', y_true[i])\n",
    "        print('pred',y_pred[i])"
   ]
  },
  {
   "cell_type": "code",
   "execution_count": 1,
   "id": "32823342-ce1f-4df8-b9b6-fec3b665e9aa",
   "metadata": {},
   "outputs": [],
   "source": [
    "features = [[0.5, 1.0], [-1.5, -2.0], [2.0, 1.5]]\n",
    "labels = [0, 1, 0]\n",
    "weights = [0.7, -0.4]\n",
    "bias = -0.1"
   ]
  },
  {
   "cell_type": "code",
   "execution_count": 31,
   "id": "33b6cbb0-01aa-4543-ac4a-711639999384",
   "metadata": {},
   "outputs": [],
   "source": [
    "sum_arr = []\n",
    "for i,x in enumerate(features):\n",
    "    a = weights[0]* x[0] + weights[1]*x[1]\n",
    "    sum_arr.append(a)"
   ]
  },
  {
   "cell_type": "code",
   "execution_count": 38,
   "id": "f0dc0c91-3f35-4b21-826d-3af00889a06a",
   "metadata": {},
   "outputs": [
    {
     "data": {
      "text/plain": [
       "[-0.25000000000000006, -0.44999999999999973, 0.5999999999999999]"
      ]
     },
     "execution_count": 38,
     "metadata": {},
     "output_type": "execute_result"
    }
   ],
   "source": [
    "sum_arr = [x+bias for x in sum_arr]\n",
    "sum_arr"
   ]
  },
  {
   "cell_type": "code",
   "execution_count": 43,
   "id": "7e5c3c7c-3f33-4cfa-b57b-6286e30208c1",
   "metadata": {},
   "outputs": [
    {
     "data": {
      "text/plain": [
       "[0.4378234991142018, 0.389360766050778, 0.6456563062257954]"
      ]
     },
     "execution_count": 43,
     "metadata": {},
     "output_type": "execute_result"
    }
   ],
   "source": [
    "probs = [(1 / (1 + math.exp(-x))) for x in sum_arr]\n",
    "probs"
   ]
  },
  {
   "cell_type": "code",
   "execution_count": 52,
   "id": "c4e0ae65-c9bb-428e-8225-06cdc2d16b83",
   "metadata": {},
   "outputs": [],
   "source": [
    "mse_arr = 0\n",
    "for i in range(len(probs)):\n",
    "    mse_arr += (labels[i] - probs[i]) **2"
   ]
  },
  {
   "cell_type": "code",
   "execution_count": 66,
   "id": "9417b9b9-4502-474d-bf97-469ae8c85e59",
   "metadata": {},
   "outputs": [],
   "source": [
    "features = [[1.0, 2.0], [2.0, 1.0], [-1.0, -2.0]]\n",
    "labels = [1, 0, 0]\n",
    "initial_weights = [0.1, -0.2]\n",
    "initial_bias = 0.0\n",
    "learning_rate = 0.1\n",
    "epochs = 2"
   ]
  },
  {
   "cell_type": "code",
   "execution_count": 70,
   "id": "b50f05a9-df26-4c56-901c-16889f102fa7",
   "metadata": {},
   "outputs": [
    {
     "data": {
      "text/plain": [
       "[[1.0, 2.0], [2.0, 1.0], [-1.0, -2.0]]"
      ]
     },
     "execution_count": 70,
     "metadata": {},
     "output_type": "execute_result"
    }
   ],
   "source": [
    "features"
   ]
  },
  {
   "cell_type": "code",
   "execution_count": 83,
   "id": "bf1d2215-6975-495f-8bd3-42fcc4415423",
   "metadata": {},
   "outputs": [],
   "source": [
    "mul_arr = []\n",
    "for i,_ in enumerate(features):\n",
    "    a = features[i][0] * initial_weights[0] + features[i][1] * initial_weights[1]\n",
    "    mul_arr.append(a)"
   ]
  },
  {
   "cell_type": "code",
   "execution_count": 91,
   "id": "0f1d6887-df7a-49da-a293-42b48394fb86",
   "metadata": {},
   "outputs": [],
   "source": [
    "y_pred = sum(mul_arr) + initial_bias"
   ]
  },
  {
   "cell_type": "code",
   "execution_count": 93,
   "id": "fa175860-630f-47d8-af5d-4e8484938ed1",
   "metadata": {},
   "outputs": [],
   "source": [
    "def train_neuron(features: np.ndarray, labels: np.ndarray, initial_weights: np.ndarray, initial_bias: float, learning_rate: float, epochs: int) -> (np.ndarray, float, list[float]):\n",
    "    pass"
   ]
  },
  {
   "cell_type": "code",
   "execution_count": 97,
   "id": "c3fd6856-5df2-4898-822a-92b2c0d58979",
   "metadata": {},
   "outputs": [
    {
     "data": {
      "text/plain": [
       "Linear(in_features=2, out_features=30, bias=True)"
      ]
     },
     "execution_count": 97,
     "metadata": {},
     "output_type": "execute_result"
    }
   ],
   "source": [
    "a = torch.nn.Linear(2, 30)\n",
    "a"
   ]
  },
  {
   "cell_type": "markdown",
   "id": "e086d802-9b6a-43f8-9f4a-c311966f2341",
   "metadata": {},
   "source": [
    "## PyTorch Practice"
   ]
  },
  {
   "cell_type": "code",
   "execution_count": 100,
   "id": "85f2a5fd-ecda-44c6-9c2b-c04ef87e5f7f",
   "metadata": {},
   "outputs": [],
   "source": [
    "# Implementing a Neural network\n",
    "class NeuralNetwork(nn.Module):\n",
    "    def __init__(self, num_inputs, num_outputs):\n",
    "        super().__init__()\n",
    "        self.layers = torch.nn.Sequential(\n",
    "            # 1st hidden layer\n",
    "            torch.nn.Linear(num_inputs, 30),\n",
    "            torch.nn.ReLU(),\n",
    "\n",
    "            # 2nd Hidden layer\n",
    "            torch.nn.Linear(30,20),\n",
    "            torch.nn.ReLU(),\n",
    "\n",
    "            # Output Layer\n",
    "            torch.nn.Linear(20, num_outputs)    \n",
    "        )\n",
    "    def forward(self,x):\n",
    "        logits = self.layers(x)\n",
    "        return logits"
   ]
  },
  {
   "cell_type": "code",
   "execution_count": 101,
   "id": "15844481-4ba3-42e0-9ab7-98b9bb4ecab0",
   "metadata": {},
   "outputs": [],
   "source": [
    "model = NeuralNetwork(50,3)"
   ]
  },
  {
   "cell_type": "code",
   "execution_count": 102,
   "id": "372ebadc-64f9-4b2c-821a-3d9356003ff0",
   "metadata": {},
   "outputs": [
    {
     "name": "stdout",
     "output_type": "stream",
     "text": [
      "NeuralNetwork(\n",
      "  (layers): Sequential(\n",
      "    (0): Linear(in_features=50, out_features=30, bias=True)\n",
      "    (1): ReLU()\n",
      "    (2): Linear(in_features=30, out_features=20, bias=True)\n",
      "    (3): ReLU()\n",
      "    (4): Linear(in_features=20, out_features=3, bias=True)\n",
      "  )\n",
      ")\n"
     ]
    }
   ],
   "source": [
    "print(model)"
   ]
  },
  {
   "cell_type": "code",
   "execution_count": 103,
   "id": "e5227ea0-240f-4f10-b974-3de76a3ab50e",
   "metadata": {},
   "outputs": [
    {
     "data": {
      "text/plain": [
       "2213"
      ]
     },
     "execution_count": 103,
     "metadata": {},
     "output_type": "execute_result"
    }
   ],
   "source": [
    "num_params = sum(p.numel() for p in model.parameters() if p.requires_grad)\n",
    "num_params"
   ]
  },
  {
   "cell_type": "code",
   "execution_count": 109,
   "id": "03560438-2ef6-4ff4-8927-f98209cdab5e",
   "metadata": {},
   "outputs": [
    {
     "data": {
      "text/plain": [
       "Parameter containing:\n",
       "tensor([[-0.1026, -0.1141, -0.1063,  ...,  0.0362, -0.0287, -0.1074],\n",
       "        [ 0.1223, -0.0817,  0.0997,  ...,  0.1262, -0.0107,  0.1412],\n",
       "        [-0.0605,  0.0228,  0.0665,  ...,  0.1171, -0.0933,  0.1199],\n",
       "        ...,\n",
       "        [-0.1397,  0.0794, -0.0432,  ..., -0.0482, -0.1087,  0.0439],\n",
       "        [ 0.0684,  0.1236, -0.0499,  ...,  0.0914,  0.0290, -0.0244],\n",
       "        [ 0.0428,  0.0028, -0.0713,  ...,  0.0075, -0.1373,  0.0537]],\n",
       "       requires_grad=True)"
      ]
     },
     "execution_count": 109,
     "metadata": {},
     "output_type": "execute_result"
    }
   ],
   "source": [
    "model.layers[0].weight"
   ]
  },
  {
   "cell_type": "code",
   "execution_count": 3,
   "id": "9e6a56a7-dcbe-49c5-b1d9-4e0955abdcc3",
   "metadata": {},
   "outputs": [],
   "source": [
    "# Creating a demo neural network\n",
    "class SimpleNN(nn.Module):\n",
    "    def __init__(self, num_inputs, num_outputs):\n",
    "        super().__init__()\n",
    "        self.layers = nn.Sequential(\n",
    "            torch.nn.Linear(num_inputs, 40),  # Fixed typo here\n",
    "            torch.nn.ReLU(),\n",
    "            torch.nn.Linear(40, 20),\n",
    "            torch.nn.ReLU(),\n",
    "            torch.nn.Linear(20, num_outputs)\n",
    "        )\n",
    "    \n",
    "    def forward(self, x):\n",
    "        logits = self.layers(x)\n",
    "        return logits"
   ]
  },
  {
   "cell_type": "code",
   "execution_count": 26,
   "id": "8f3aad6d-cea9-4c08-abd1-2a7dbc7f7f21",
   "metadata": {},
   "outputs": [
    {
     "data": {
      "text/plain": [
       "SimpleNN(\n",
       "  (layers): Sequential(\n",
       "    (0): Linear(in_features=50, out_features=40, bias=True)\n",
       "    (1): ReLU()\n",
       "    (2): Linear(in_features=40, out_features=20, bias=True)\n",
       "    (3): ReLU()\n",
       "    (4): Linear(in_features=20, out_features=1, bias=True)\n",
       "  )\n",
       ")"
      ]
     },
     "execution_count": 26,
     "metadata": {},
     "output_type": "execute_result"
    }
   ],
   "source": [
    "model = SimpleNN(50, 1)\n",
    "model"
   ]
  },
  {
   "cell_type": "code",
   "execution_count": 27,
   "id": "8f5b39e1-06cd-489f-b060-8fd4de5e5794",
   "metadata": {},
   "outputs": [
    {
     "data": {
      "text/plain": [
       "tensor([[0.4690, 0.8032, 0.2367, 0.3961, 0.4563, 0.4052, 0.2875, 0.9239, 0.7258,\n",
       "         0.0470, 0.8585, 0.1069, 0.2802, 0.4358, 0.7210, 0.6168, 0.1942, 0.0032,\n",
       "         0.9598, 0.5520, 0.7384, 0.8084, 0.1463, 0.3182, 0.9457, 0.2204, 0.5479,\n",
       "         0.5234, 0.6422, 0.4450, 0.5319, 0.8429, 0.1057, 0.7249, 0.1794, 0.2899,\n",
       "         0.6105, 0.4058, 0.0349, 0.0744, 0.2480, 0.9675, 0.3400, 0.0364, 0.6559,\n",
       "         0.7414, 0.8372, 0.9696, 0.5269, 0.8959]])"
      ]
     },
     "execution_count": 27,
     "metadata": {},
     "output_type": "execute_result"
    }
   ],
   "source": [
    "x = torch.rand((1,50))\n",
    "x"
   ]
  },
  {
   "cell_type": "code",
   "execution_count": 28,
   "id": "c0854d6e-2a50-4fce-8f72-2d72a3dd0dd6",
   "metadata": {},
   "outputs": [
    {
     "data": {
      "text/plain": [
       "tensor([[0.2510]], grad_fn=<AddmmBackward0>)"
      ]
     },
     "execution_count": 28,
     "metadata": {},
     "output_type": "execute_result"
    }
   ],
   "source": [
    "out = model(x)\n",
    "out"
   ]
  },
  {
   "cell_type": "code",
   "execution_count": 4,
   "id": "9c73f20e-4782-49c5-b4a8-4a3fbd7fd660",
   "metadata": {},
   "outputs": [],
   "source": [
    "y = torch.tensor([1.0])\n",
    "x1 = torch.tensor([1.1])\n",
    "w1 = torch.tensor([2.2], requires_grad = True)\n",
    "b = torch.tensor([0.0], requires_grad = True)\n",
    "\n",
    "z = w1*x1 + b\n",
    "a = torch.sigmoid(z)"
   ]
  },
  {
   "cell_type": "code",
   "execution_count": 10,
   "id": "8d932aad-321d-4059-b8cd-4ed69bc81d55",
   "metadata": {},
   "outputs": [
    {
     "data": {
      "text/plain": [
       "tensor(0.0852, grad_fn=<BinaryCrossEntropyBackward0>)"
      ]
     },
     "execution_count": 10,
     "metadata": {},
     "output_type": "execute_result"
    }
   ],
   "source": [
    "import torch.nn.functional as F\n",
    "from torch.autograd import grad\n",
    "loss = F.binary_cross_entropy(a, y)\n",
    "loss"
   ]
  },
  {
   "cell_type": "code",
   "execution_count": 11,
   "id": "4b5ed232-a55c-4a3c-b49c-e76a0a638716",
   "metadata": {},
   "outputs": [],
   "source": [
    "grad_L_w1= grad(loss, w1, retain_graph = True)\n",
    "grad_L_b = grad(loss, b, retain_graph =True)"
   ]
  },
  {
   "cell_type": "code",
   "execution_count": 13,
   "id": "a492d252-f2cb-4b21-9abd-9adc82218004",
   "metadata": {},
   "outputs": [
    {
     "data": {
      "text/plain": [
       "((tensor([-0.0898]),), (tensor([-0.0817]),))"
      ]
     },
     "execution_count": 13,
     "metadata": {},
     "output_type": "execute_result"
    }
   ],
   "source": [
    "grad_L_w1, grad_L_b"
   ]
  },
  {
   "cell_type": "code",
   "execution_count": 14,
   "id": "adc194c4-b56a-419a-962b-15cdda33e997",
   "metadata": {},
   "outputs": [
    {
     "name": "stdout",
     "output_type": "stream",
     "text": [
      "tensor([-0.0898])\n",
      "tensor([-0.0817])\n"
     ]
    }
   ],
   "source": [
    "loss.backward()\n",
    "print(w1.grad)\n",
    "print(b.grad)"
   ]
  },
  {
   "cell_type": "code",
   "execution_count": 37,
   "id": "2854189d-4808-429f-b2e2-274ec05c2836",
   "metadata": {},
   "outputs": [],
   "source": [
    "from torch.utils.data import Dataset\n",
    "class ToyDataset(Dataset):\n",
    "    def __init__(self, X, y):\n",
    "        self.features = X\n",
    "        self.labels = y\n",
    "    def __getitem__(self, index):\n",
    "        one_x = self.features[index]\n",
    "        one_y = self.labels[index]\n",
    "        return one_x, one_y\n",
    "    def __len__(self):\n",
    "        return self.labels.shape[0]"
   ]
  },
  {
   "cell_type": "code",
   "execution_count": 38,
   "id": "8397337a-7ace-4f92-9529-a53982f2e352",
   "metadata": {},
   "outputs": [],
   "source": [
    "X_train = torch.randn(5,2)\n",
    "y_train = torch.tensor([0,0,0,1,1])\n",
    "X_test = torch.randn(2,2)\n",
    "y_test = torch.tensor([0,1])"
   ]
  },
  {
   "cell_type": "code",
   "execution_count": 39,
   "id": "963a98da-596e-4e8c-bcab-257728989b53",
   "metadata": {},
   "outputs": [],
   "source": [
    "train_ds = ToyDataset(X_train,y_train)\n",
    "test_ds = ToyDataset(X_test,y_test)"
   ]
  },
  {
   "cell_type": "code",
   "execution_count": 51,
   "id": "5e4ba3f1-ce19-425c-84b3-c75818726d99",
   "metadata": {},
   "outputs": [],
   "source": [
    "from torch.utils.data import DataLoader\n",
    "torch.manual_seed(123)\n",
    "\n",
    "train_loader = DataLoader(\n",
    "    dataset = train_ds,\n",
    "    batch_size= 2,\n",
    "    shuffle = True,\n",
    "    num_workers = 0,\n",
    "    drop_last = True\n",
    ")\n",
    "\n",
    "test_loader = DataLoader(\n",
    "    dataset = test_ds,\n",
    "    batch_size = 2,\n",
    "    shuffle = False,\n",
    "    num_workers = 0\n",
    ")"
   ]
  },
  {
   "cell_type": "code",
   "execution_count": 62,
   "id": "f5b35de7-2d2a-40a2-8f66-e54af894d461",
   "metadata": {},
   "outputs": [
    {
     "name": "stdout",
     "output_type": "stream",
     "text": [
      "Batch 1\n",
      "Features: tensor([[ 0.3239, -0.1085],\n",
      "        [ 0.2103, -0.3908]])\n",
      "Labels: tensor([0, 1])\n",
      "logits: tensor([[0.0901, 0.1760],\n",
      "        [0.1435, 0.1612]], grad_fn=<AddmmBackward0>)\n",
      "------------------------------\n",
      "Batch 2\n",
      "Features: tensor([[-1.1969,  0.2093],\n",
      "        [-0.9724, -0.7550]])\n",
      "Labels: tensor([0, 0])\n",
      "logits: tensor([[0.0843, 0.2605],\n",
      "        [0.3087, 0.1609]], grad_fn=<AddmmBackward0>)\n",
      "------------------------------\n"
     ]
    }
   ],
   "source": [
    "for idx, (x, y) in enumerate(train_loader):\n",
    "    logits = model(x)\n",
    "    print(f\"Batch {idx + 1}\")\n",
    "    print(\"Features:\", x)\n",
    "    print(\"Labels:\", y)\n",
    "    print(\"logits:\", logits)\n",
    "    print(\"-\" * 30)"
   ]
  },
  {
   "cell_type": "code",
   "execution_count": 53,
   "id": "a116c128-5682-464e-b3c3-8cb0d6cf898d",
   "metadata": {},
   "outputs": [
    {
     "data": {
      "text/plain": [
       "SimpleNN(\n",
       "  (layers): Sequential(\n",
       "    (0): Linear(in_features=50, out_features=40, bias=True)\n",
       "    (1): ReLU()\n",
       "    (2): Linear(in_features=40, out_features=20, bias=True)\n",
       "    (3): ReLU()\n",
       "    (4): Linear(in_features=20, out_features=1, bias=True)\n",
       "  )\n",
       ")"
      ]
     },
     "execution_count": 53,
     "metadata": {},
     "output_type": "execute_result"
    }
   ],
   "source": [
    "model"
   ]
  },
  {
   "cell_type": "code",
   "execution_count": 70,
   "id": "0a1f68be-a411-4841-8bda-f781a455aef0",
   "metadata": {},
   "outputs": [],
   "source": [
    "# Writing a Training Loop\n",
    "torch.manual_seed(123)\n",
    "model = SimpleNN(num_inputs = 2, num_outputs = 2)\n",
    "optimizer = torch.optim.SGD(model.parameters(), lr = 0.5)\n",
    "num_epochs = 4"
   ]
  },
  {
   "cell_type": "code",
   "execution_count": 79,
   "id": "09b6b948-ab8a-4d54-a827-c139e50ae082",
   "metadata": {},
   "outputs": [
    {
     "name": "stdout",
     "output_type": "stream",
     "text": [
      "Epoch:001/004 | Batch 000/002 | Train Loss: 0.41\n",
      "Epoch:001/004 | Batch 001/002 | Train Loss: 0.35\n",
      "Epoch:002/004 | Batch 000/002 | Train Loss: 0.39\n",
      "Epoch:002/004 | Batch 001/002 | Train Loss: 0.34\n",
      "Epoch:003/004 | Batch 000/002 | Train Loss: 0.22\n",
      "Epoch:003/004 | Batch 001/002 | Train Loss: 0.49\n",
      "Epoch:004/004 | Batch 000/002 | Train Loss: 0.37\n",
      "Epoch:004/004 | Batch 001/002 | Train Loss: 0.21\n"
     ]
    }
   ],
   "source": [
    "for epoch in range(num_epochs):\n",
    "    model.train()\n",
    "    for batch_idx, (features, labels) in enumerate(train_loader):\n",
    "        # Forward, similar to calling model(layers)\n",
    "        logits= model(features)\n",
    "        # Calculating Loss\n",
    "        loss = F.cross_entropy(logits, labels)\n",
    "        # Resetting Gradients to 0\n",
    "        optimizer.zero_grad()\n",
    "        # Backpropagation\n",
    "        loss.backward()\n",
    "        # Updating the params\n",
    "        optimizer.step()\n",
    "\n",
    "        ### Logging\n",
    "        print(f\"Epoch:{epoch+1:03d}/{num_epochs:03d}\"\n",
    "                f\" | Batch {batch_idx:03d}/{len(train_loader):03d}\"\n",
    "                f\" | Train Loss: {loss:.2f}\")"
   ]
  },
  {
   "cell_type": "code",
   "execution_count": 75,
   "id": "89cec27c-2af3-4fe1-9696-d33c4b0cdce8",
   "metadata": {},
   "outputs": [
    {
     "data": {
      "text/plain": [
       "tensor([[ 1.5385, -0.8040],\n",
       "        [ 1.5077, -0.7651],\n",
       "        [ 0.2704,  0.0388],\n",
       "        [ 0.2799,  0.0323],\n",
       "        [ 0.2096,  0.1050]])"
      ]
     },
     "execution_count": 75,
     "metadata": {},
     "output_type": "execute_result"
    }
   ],
   "source": [
    "model.eval()\n",
    "with torch.no_grad():\n",
    "    outputs = model(X_train)\n",
    "outputs"
   ]
  },
  {
   "cell_type": "code",
   "execution_count": 76,
   "id": "717edfc8-f19d-4ff6-b5ff-d9a2d3e58d72",
   "metadata": {},
   "outputs": [
    {
     "data": {
      "text/plain": [
       "tensor([[0.9123, 0.0877],\n",
       "        [0.9066, 0.0934],\n",
       "        [0.5576, 0.4424],\n",
       "        [0.5616, 0.4384],\n",
       "        [0.5261, 0.4739]])"
      ]
     },
     "execution_count": 76,
     "metadata": {},
     "output_type": "execute_result"
    }
   ],
   "source": [
    "torch.set_printoptions(sci_mode = False)\n",
    "probas = torch.softmax(outputs, dim= 1)\n",
    "probas"
   ]
  },
  {
   "cell_type": "code",
   "execution_count": 77,
   "id": "419332ff-0dea-44a7-bd5e-230a3d39ea11",
   "metadata": {},
   "outputs": [
    {
     "data": {
      "text/plain": [
       "tensor([0, 0, 0, 0, 0])"
      ]
     },
     "execution_count": 77,
     "metadata": {},
     "output_type": "execute_result"
    }
   ],
   "source": [
    "preds = torch.argmax(probas, dim = 1)\n",
    "preds"
   ]
  },
  {
   "cell_type": "code",
   "execution_count": null,
   "id": "1e7b0a08-e337-45dc-aaa5-77213dd9a733",
   "metadata": {},
   "outputs": [],
   "source": []
  }
 ],
 "metadata": {
  "kernelspec": {
   "display_name": "Python 3 (ipykernel)",
   "language": "python",
   "name": "python3"
  },
  "language_info": {
   "codemirror_mode": {
    "name": "ipython",
    "version": 3
   },
   "file_extension": ".py",
   "mimetype": "text/x-python",
   "name": "python",
   "nbconvert_exporter": "python",
   "pygments_lexer": "ipython3",
   "version": "3.9.19"
  }
 },
 "nbformat": 4,
 "nbformat_minor": 5
}
